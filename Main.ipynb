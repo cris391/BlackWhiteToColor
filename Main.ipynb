{
 "cells": [
  {
   "cell_type": "code",
   "execution_count": 35,
   "metadata": {},
   "outputs": [
    {
     "name": "stdout",
     "output_type": "stream",
     "text": [
      "['.DS_Store', 'Tomorrow.png']\n"
     ]
    }
   ],
   "source": [
    "import os, shutil\n",
    "from PIL import Image\n",
    "from os import listdir\n",
    "from os.path import isfile, join\n",
    "\n",
    "colorDirectory = './color'\n",
    "greysScaleDirectory = './greyscale'\n",
    "\n",
    "def listFiles(directory):\n",
    "    return [f for f in listdir(directory) if isfile(join(directory, f))]\n",
    "\n",
    "def removeGreyscale(directory):\n",
    "    for filename in os.listdir(directory):\n",
    "        file_path = os.path.join(directory, filename)\n",
    "        try:\n",
    "            if os.path.isfile(file_path) or os.path.islink(file_path):\n",
    "                os.unlink(file_path)\n",
    "            elif os.path.isdir(file_path):\n",
    "                shutil.rmtree(file_path)\n",
    "        except Exception as e:\n",
    "            print('Failed to delete %s. Reason: %s' % (file_path, e))\n",
    "            \n",
    "\n",
    "\n",
    "print(listFiles(colorDirectory))\n",
    "removeGreyscale(greysScaleDirectory)\n",
    "for x in range(0, 3):\n",
    "    img = Image.open('./color/tomorrow.png').convert('LA')\n",
    "    img.save('./greyscale/tomorrow' + str(x) + '.png')\n",
    "    \n"
   ]
  }
 ],
 "metadata": {
  "kernelspec": {
   "display_name": "Python 3",
   "language": "python",
   "name": "python3"
  },
  "language_info": {
   "codemirror_mode": {
    "name": "ipython",
    "version": 3
   },
   "file_extension": ".py",
   "mimetype": "text/x-python",
   "name": "python",
   "nbconvert_exporter": "python",
   "pygments_lexer": "ipython3",
   "version": "3.8.3"
  }
 },
 "nbformat": 4,
 "nbformat_minor": 4
}

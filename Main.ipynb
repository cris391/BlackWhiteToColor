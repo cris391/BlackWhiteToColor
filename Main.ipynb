{
 "cells": [
  {
   "cell_type": "code",
   "execution_count": 6,
   "metadata": {},
   "outputs": [
    {
     "name": "stdout",
     "output_type": "stream",
     "text": [
      "Found 0 images belonging to 0 classes.\n",
      "Found 0 images belonging to 0 classes.\n"
     ]
    }
   ],
   "source": [
    "from keras.preprocessing.image import ImageDataGenerator\n",
    "\n",
    "train_dir = './dataset/test/'\n",
    "\n",
    "bw = ImageDataGenerator(rescale=1./255)\n",
    "c = ImageDataGenerator(rescale=1./255)\n",
    "\n",
    "x = bw.flow_from_directory(train_dir,\n",
    "                           target_size=(224, 224),\n",
    "                           batch_size=16,\n",
    "                           color_mode='grayscale',\n",
    "                           class_mode=None)\n",
    "y = c.flow_from_directory(train_dir,\n",
    "                           target_size=(224, 224),\n",
    "                           batch_size=16,\n",
    "                           class_mode=None)"
   ]
  }
 ],
 "metadata": {
  "kernelspec": {
   "display_name": "Python 3",
   "language": "python",
   "name": "python3"
  },
  "language_info": {
   "codemirror_mode": {
    "name": "ipython",
    "version": 3
   },
   "file_extension": ".py",
   "mimetype": "text/x-python",
   "name": "python",
   "nbconvert_exporter": "python",
   "pygments_lexer": "ipython3",
   "version": "3.7.9"
  }
 },
 "nbformat": 4,
 "nbformat_minor": 4
}

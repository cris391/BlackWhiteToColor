{
 "cells": [
  {
   "cell_type": "code",
   "execution_count": 1,
   "metadata": {},
   "outputs": [
    {
     "name": "stderr",
     "output_type": "stream",
     "text": [
      "Using TensorFlow backend.\n"
     ]
    }
   ],
   "source": [
    "import keras"
   ]
  },
  {
   "cell_type": "code",
   "execution_count": 2,
   "metadata": {},
   "outputs": [],
   "source": [
    "#from keras.preprocessing import image\n",
    "#from keras.engine import Layer\n",
    "from keras.layers import Conv2D, Conv3D, UpSampling2D, InputLayer, Conv2DTranspose, Input, Reshape, merge, concatenate\n",
    "from keras import optimizers\n",
    "#from keras.layers import Activation, Dense, Dropout, Flatten\n",
    "#from keras.layers.normalization import BatchNormalization\n",
    "#from keras.callbacks import TensorBoard\n",
    "from keras.models import Sequential, Model\n",
    "from keras.preprocessing.image import ImageDataGenerator, array_to_img, img_to_array, load_img\n",
    "\n",
    "#from time import time\n",
    "import numpy as np\n",
    "#import os\n",
    "#import random\n",
    "import tensorflow as tf\n",
    "from PIL import Image, ImageFile\n",
    "import matplotlib.pyplot as plt\n"
   ]
  },
  {
   "cell_type": "code",
   "execution_count": null,
   "metadata": {},
   "outputs": [],
   "source": []
  },
  {
   "cell_type": "code",
   "execution_count": 3,
   "metadata": {},
   "outputs": [
    {
     "name": "stdout",
     "output_type": "stream",
     "text": [
      "Found 681 images belonging to 1 classes.\n",
      "Found 681 images belonging to 1 classes.\n"
     ]
    }
   ],
   "source": [
    "train_dir = './dataset/train'\n",
    "seed = 6\n",
    "\n",
    "bw = ImageDataGenerator(rescale=1./255)\n",
    "c = ImageDataGenerator(rescale=1./255)\n",
    "\n",
    "\n",
    "x = bw.flow_from_directory(train_dir,\n",
    "                          target_size=(224,224),\n",
    "                          color_mode='grayscale',\n",
    "                          class_mode=None,\n",
    "                          seed=seed)\n",
    "\n",
    "y = c.flow_from_directory(train_dir,\n",
    "                          target_size=(224,224),\n",
    "                          class_mode=None,\n",
    "                          seed=seed)\n",
    "\n",
    "train_generator = zip(x, y)\n",
    "\n"
   ]
  },
  {
   "cell_type": "code",
   "execution_count": 4,
   "metadata": {},
   "outputs": [
    {
     "name": "stdout",
     "output_type": "stream",
     "text": [
      "Found 211 images belonging to 1 classes.\n",
      "Found 211 images belonging to 1 classes.\n"
     ]
    }
   ],
   "source": [
    "validation_dir = './dataset/validation'\n",
    "seed = 6\n",
    "\n",
    "bw = ImageDataGenerator(rescale=1./255)\n",
    "c = ImageDataGenerator(rescale=1./255)\n",
    "\n",
    "\n",
    "x = bw.flow_from_directory(validation_dir,\n",
    "                          target_size=(224,224),\n",
    "                          color_mode='grayscale',\n",
    "                          class_mode=None,\n",
    "                          seed=seed)\n",
    "\n",
    "y = c.flow_from_directory(validation_dir,\n",
    "                          target_size=(224,224),\n",
    "                          class_mode=None,\n",
    "                          seed=seed)\n",
    "\n",
    "validation_generator = zip(x, y)"
   ]
  },
  {
   "cell_type": "code",
   "execution_count": 5,
   "metadata": {},
   "outputs": [],
   "source": [
    "#Encoder\n",
    "encoder_input = Input(shape=(224, 224, 1,))\n",
    "encoder_output = Conv2D(64, (3,3), activation='relu', padding='same', strides=2)(encoder_input)\n",
    "encoder_output = Conv2D(128, (3,3), activation='relu', padding='same')(encoder_output)\n",
    "encoder_output = Conv2D(128, (3,3), activation='relu', padding='same', strides=2)(encoder_output)\n",
    "encoder_output = Conv2D(256, (3,3), activation='relu', padding='same')(encoder_output)\n",
    "encoder_output = Conv2D(256, (3,3), activation='relu', padding='same', strides=2)(encoder_output)\n",
    "encoder_output = Conv2D(512, (3,3), activation='relu', padding='same')(encoder_output)\n",
    "encoder_output = Conv2D(512, (3,3), activation='relu', padding='same')(encoder_output)\n",
    "encoder_output = Conv2D(256, (3,3), activation='relu', padding='same')(encoder_output)"
   ]
  },
  {
   "cell_type": "code",
   "execution_count": 6,
   "metadata": {},
   "outputs": [],
   "source": [
    "#Decoder\n",
    "decoder_output = Conv2D(128, (3,3), activation='relu', padding='same')(encoder_output)\n",
    "decoder_output = UpSampling2D((2, 2))(decoder_output)\n",
    "decoder_output = Conv2D(64, (3,3), activation='relu', padding='same')(decoder_output)\n",
    "decoder_output = UpSampling2D((2, 2))(decoder_output)\n",
    "decoder_output = Conv2D(32, (3,3), activation='relu', padding='same')(decoder_output)\n",
    "decoder_output = Conv2D(16, (3,3), activation='relu', padding='same')(decoder_output)\n",
    "decoder_output = Conv2D(3, (3, 3), activation='tanh', padding='same')(decoder_output)\n",
    "decoder_output = UpSampling2D((2, 2))(decoder_output)\n",
    "model = Model(inputs=encoder_input, outputs=decoder_output)"
   ]
  },
  {
   "cell_type": "code",
   "execution_count": 7,
   "metadata": {},
   "outputs": [],
   "source": [
    "#model.summary()"
   ]
  },
  {
   "cell_type": "code",
   "execution_count": 8,
   "metadata": {},
   "outputs": [],
   "source": [
    "opt = tf.keras.optimizers.Adam(learning_rate=0.002)\n",
    "\n",
    "model.compile(opt, loss='mse', metrics=['accuracy'])"
   ]
  },
  {
   "cell_type": "code",
   "execution_count": null,
   "metadata": {},
   "outputs": [
    {
     "name": "stdout",
     "output_type": "stream",
     "text": [
      "Epoch 1/500\n",
      "30/30 [==============================] - 72s 2s/step - loss: 0.1391 - accuracy: 0.4168 - val_loss: 0.0418 - val_accuracy: 0.2149\n",
      "Epoch 2/500\n",
      "30/30 [==============================] - 68s 2s/step - loss: 0.0320 - accuracy: 0.4109 - val_loss: 0.0228 - val_accuracy: 0.3306\n",
      "Epoch 3/500\n",
      "30/30 [==============================] - 66s 2s/step - loss: 0.0208 - accuracy: 0.4301 - val_loss: 0.0201 - val_accuracy: 0.4503\n",
      "Epoch 4/500\n",
      "30/30 [==============================] - 71s 2s/step - loss: 0.0183 - accuracy: 0.4400 - val_loss: 0.0177 - val_accuracy: 0.4263\n",
      "Epoch 5/500\n",
      "30/30 [==============================] - 67s 2s/step - loss: 0.0166 - accuracy: 0.4394 - val_loss: 0.0193 - val_accuracy: 0.4345\n",
      "Epoch 6/500\n",
      "30/30 [==============================] - 68s 2s/step - loss: 0.0161 - accuracy: 0.4609 - val_loss: 0.0161 - val_accuracy: 0.4539\n",
      "Epoch 7/500\n",
      "30/30 [==============================] - 69s 2s/step - loss: 0.0154 - accuracy: 0.4808 - val_loss: 0.0158 - val_accuracy: 0.4739\n",
      "Epoch 8/500\n",
      "30/30 [==============================] - 70s 2s/step - loss: 0.0149 - accuracy: 0.4896 - val_loss: 0.0145 - val_accuracy: 0.4756\n",
      "Epoch 9/500\n",
      "30/30 [==============================] - 68s 2s/step - loss: 0.0143 - accuracy: 0.4977 - val_loss: 0.0174 - val_accuracy: 0.5101\n",
      "Epoch 10/500\n",
      "30/30 [==============================] - 70s 2s/step - loss: 0.0140 - accuracy: 0.5069 - val_loss: 0.0151 - val_accuracy: 0.4974\n",
      "Epoch 11/500\n",
      "30/30 [==============================] - 64s 2s/step - loss: 0.0148 - accuracy: 0.5209 - val_loss: 0.0169 - val_accuracy: 0.5438\n",
      "Epoch 12/500\n",
      "30/30 [==============================] - 63s 2s/step - loss: 0.0136 - accuracy: 0.5162 - val_loss: 0.0140 - val_accuracy: 0.5127\n",
      "Epoch 13/500\n",
      "30/30 [==============================] - 76s 3s/step - loss: 0.0135 - accuracy: 0.5340 - val_loss: 0.0147 - val_accuracy: 0.5244\n",
      "Epoch 14/500\n",
      "30/30 [==============================] - 63s 2s/step - loss: 0.0139 - accuracy: 0.5291 - val_loss: 0.0146 - val_accuracy: 0.4813\n",
      "Epoch 15/500\n",
      "30/30 [==============================] - 68s 2s/step - loss: 0.0134 - accuracy: 0.5239 - val_loss: 0.0144 - val_accuracy: 0.5133\n",
      "Epoch 16/500\n",
      "30/30 [==============================] - 73s 2s/step - loss: 0.0129 - accuracy: 0.5289 - val_loss: 0.0130 - val_accuracy: 0.5427\n",
      "Epoch 17/500\n",
      "30/30 [==============================] - 70s 2s/step - loss: 0.0132 - accuracy: 0.5286 - val_loss: 0.0164 - val_accuracy: 0.5217\n",
      "Epoch 18/500\n",
      "30/30 [==============================] - 70s 2s/step - loss: 0.0128 - accuracy: 0.5392 - val_loss: 0.0124 - val_accuracy: 0.5329\n",
      "Epoch 19/500\n",
      "30/30 [==============================] - 77s 3s/step - loss: 0.0128 - accuracy: 0.5437 - val_loss: 0.0149 - val_accuracy: 0.5133\n",
      "Epoch 20/500\n",
      "30/30 [==============================] - 73s 2s/step - loss: 0.0127 - accuracy: 0.5453 - val_loss: 0.0141 - val_accuracy: 0.5187\n",
      "Epoch 21/500\n",
      "30/30 [==============================] - 73s 2s/step - loss: 0.0123 - accuracy: 0.5594 - val_loss: 0.0146 - val_accuracy: 0.5314\n",
      "Epoch 22/500\n",
      "30/30 [==============================] - 68s 2s/step - loss: 0.0121 - accuracy: 0.5435 - val_loss: 0.0130 - val_accuracy: 0.5481\n",
      "Epoch 23/500\n",
      "30/30 [==============================] - 74s 2s/step - loss: 0.0130 - accuracy: 0.5452 - val_loss: 0.0146 - val_accuracy: 0.5157\n",
      "Epoch 24/500\n",
      "30/30 [==============================] - 71s 2s/step - loss: 0.0124 - accuracy: 0.5576 - val_loss: 0.0126 - val_accuracy: 0.5514\n",
      "Epoch 25/500\n",
      "30/30 [==============================] - 69s 2s/step - loss: 0.0119 - accuracy: 0.5560 - val_loss: 0.0121 - val_accuracy: 0.5137\n",
      "Epoch 26/500\n",
      "30/30 [==============================] - 73s 2s/step - loss: 0.0119 - accuracy: 0.5574 - val_loss: 0.0147 - val_accuracy: 0.5520\n",
      "Epoch 27/500\n",
      "30/30 [==============================] - 69s 2s/step - loss: 0.0119 - accuracy: 0.5695 - val_loss: 0.0128 - val_accuracy: 0.5241\n",
      "Epoch 28/500\n",
      "30/30 [==============================] - 71s 2s/step - loss: 0.0118 - accuracy: 0.5644 - val_loss: 0.0134 - val_accuracy: 0.5519\n",
      "Epoch 29/500\n",
      "30/30 [==============================] - 70s 2s/step - loss: 0.0119 - accuracy: 0.5540 - val_loss: 0.0134 - val_accuracy: 0.5018\n",
      "Epoch 30/500\n",
      "30/30 [==============================] - 73s 2s/step - loss: 0.0121 - accuracy: 0.5578 - val_loss: 0.0134 - val_accuracy: 0.5357\n",
      "Epoch 31/500\n",
      "30/30 [==============================] - 69s 2s/step - loss: 0.0117 - accuracy: 0.5670 - val_loss: 0.0130 - val_accuracy: 0.5636\n",
      "Epoch 32/500\n",
      "30/30 [==============================] - 71s 2s/step - loss: 0.0117 - accuracy: 0.5664 - val_loss: 0.0140 - val_accuracy: 0.5411\n",
      "Epoch 33/500\n",
      "30/30 [==============================] - 70s 2s/step - loss: 0.0116 - accuracy: 0.5600 - val_loss: 0.0145 - val_accuracy: 0.5083\n",
      "Epoch 34/500\n",
      "30/30 [==============================] - 71s 2s/step - loss: 0.0115 - accuracy: 0.5657 - val_loss: 0.0145 - val_accuracy: 0.5682\n",
      "Epoch 35/500\n",
      "30/30 [==============================] - 68s 2s/step - loss: 0.0114 - accuracy: 0.5729 - val_loss: 0.0111 - val_accuracy: 0.4976\n",
      "Epoch 36/500\n",
      "30/30 [==============================] - 64s 2s/step - loss: 0.0116 - accuracy: 0.5689 - val_loss: 0.0135 - val_accuracy: 0.5310\n",
      "Epoch 37/500\n",
      "30/30 [==============================] - 69s 2s/step - loss: 0.0115 - accuracy: 0.5686 - val_loss: 0.0129 - val_accuracy: 0.5335\n",
      "Epoch 38/500\n",
      "30/30 [==============================] - 68s 2s/step - loss: 0.0117 - accuracy: 0.5561 - val_loss: 0.0124 - val_accuracy: 0.5505\n",
      "Epoch 39/500\n",
      "30/30 [==============================] - 65s 2s/step - loss: 0.0115 - accuracy: 0.5667 - val_loss: 0.0126 - val_accuracy: 0.5532\n",
      "Epoch 40/500\n",
      "30/30 [==============================] - 66s 2s/step - loss: 0.0113 - accuracy: 0.5697 - val_loss: 0.0138 - val_accuracy: 0.5835\n",
      "Epoch 41/500\n",
      "30/30 [==============================] - 68s 2s/step - loss: 0.0112 - accuracy: 0.5716 - val_loss: 0.0109 - val_accuracy: 0.5421\n",
      "Epoch 42/500\n",
      "30/30 [==============================] - 69s 2s/step - loss: 0.0111 - accuracy: 0.5798 - val_loss: 0.0151 - val_accuracy: 0.5621\n",
      "Epoch 43/500\n",
      "30/30 [==============================] - 73s 2s/step - loss: 0.0116 - accuracy: 0.5783 - val_loss: 0.0115 - val_accuracy: 0.5492\n",
      "Epoch 44/500\n",
      "30/30 [==============================] - 66s 2s/step - loss: 0.0107 - accuracy: 0.5752 - val_loss: 0.0130 - val_accuracy: 0.5505\n",
      "Epoch 45/500\n",
      "30/30 [==============================] - 75s 3s/step - loss: 0.0109 - accuracy: 0.5733 - val_loss: 0.0127 - val_accuracy: 0.5654\n",
      "Epoch 46/500\n",
      "30/30 [==============================] - 69s 2s/step - loss: 0.0109 - accuracy: 0.5705 - val_loss: 0.0131 - val_accuracy: 0.5657\n",
      "Epoch 47/500\n",
      "30/30 [==============================] - 68s 2s/step - loss: 0.0107 - accuracy: 0.5802 - val_loss: 0.0142 - val_accuracy: 0.5979\n",
      "Epoch 48/500\n",
      "30/30 [==============================] - 73s 2s/step - loss: 0.0107 - accuracy: 0.5803 - val_loss: 0.0131 - val_accuracy: 0.5371\n",
      "Epoch 49/500\n",
      "30/30 [==============================] - 72s 2s/step - loss: 0.0108 - accuracy: 0.5814 - val_loss: 0.0117 - val_accuracy: 0.5689\n",
      "Epoch 50/500\n",
      "30/30 [==============================] - 66s 2s/step - loss: 0.0106 - accuracy: 0.5874 - val_loss: 0.0125 - val_accuracy: 0.5822\n",
      "Epoch 51/500\n",
      "30/30 [==============================] - 74s 2s/step - loss: 0.0104 - accuracy: 0.5829 - val_loss: 0.0110 - val_accuracy: 0.5526\n",
      "Epoch 52/500\n",
      "30/30 [==============================] - 72s 2s/step - loss: 0.0107 - accuracy: 0.5898 - val_loss: 0.0130 - val_accuracy: 0.5574\n",
      "Epoch 53/500\n",
      "30/30 [==============================] - 69s 2s/step - loss: 0.0100 - accuracy: 0.5929 - val_loss: 0.0123 - val_accuracy: 0.5393\n",
      "Epoch 54/500\n",
      "30/30 [==============================] - 75s 2s/step - loss: 0.0103 - accuracy: 0.5755 - val_loss: 0.0128 - val_accuracy: 0.5787\n",
      "Epoch 55/500\n",
      "30/30 [==============================] - 67s 2s/step - loss: 0.0099 - accuracy: 0.5923 - val_loss: 0.0117 - val_accuracy: 0.5740\n",
      "Epoch 56/500\n",
      "30/30 [==============================] - 68s 2s/step - loss: 0.0103 - accuracy: 0.5853 - val_loss: 0.0117 - val_accuracy: 0.5515\n",
      "Epoch 57/500\n",
      "30/30 [==============================] - 73s 2s/step - loss: 0.0102 - accuracy: 0.5850 - val_loss: 0.0124 - val_accuracy: 0.5269\n",
      "Epoch 58/500\n",
      "30/30 [==============================] - 73s 2s/step - loss: 0.0104 - accuracy: 0.5894 - val_loss: 0.0106 - val_accuracy: 0.5555\n"
     ]
    },
    {
     "name": "stdout",
     "output_type": "stream",
     "text": [
      "Epoch 59/500\n",
      "30/30 [==============================] - 69s 2s/step - loss: 0.0097 - accuracy: 0.5893 - val_loss: 0.0125 - val_accuracy: 0.5777\n",
      "Epoch 60/500\n",
      "30/30 [==============================] - 73s 2s/step - loss: 0.0100 - accuracy: 0.5964 - val_loss: 0.0123 - val_accuracy: 0.5573\n",
      "Epoch 61/500\n",
      "30/30 [==============================] - 68s 2s/step - loss: 0.0104 - accuracy: 0.5856 - val_loss: 0.0140 - val_accuracy: 0.5604\n",
      "Epoch 62/500\n",
      "30/30 [==============================] - 73s 2s/step - loss: 0.0101 - accuracy: 0.5932 - val_loss: 0.0124 - val_accuracy: 0.5644\n",
      "Epoch 63/500\n",
      "30/30 [==============================] - 70s 2s/step - loss: 0.0098 - accuracy: 0.5907 - val_loss: 0.0100 - val_accuracy: 0.5714\n",
      "Epoch 64/500\n",
      "30/30 [==============================] - 68s 2s/step - loss: 0.0095 - accuracy: 0.6055 - val_loss: 0.0123 - val_accuracy: 0.5523\n",
      "Epoch 65/500\n",
      "30/30 [==============================] - 74s 2s/step - loss: 0.0097 - accuracy: 0.5970 - val_loss: 0.0122 - val_accuracy: 0.5464\n",
      "Epoch 66/500\n",
      "30/30 [==============================] - 71s 2s/step - loss: 0.0095 - accuracy: 0.5860 - val_loss: 0.0112 - val_accuracy: 0.5641\n",
      "Epoch 67/500\n",
      "30/30 [==============================] - 70s 2s/step - loss: 0.0099 - accuracy: 0.5999 - val_loss: 0.0121 - val_accuracy: 0.5918\n",
      "Epoch 68/500\n",
      "30/30 [==============================] - 74s 2s/step - loss: 0.0091 - accuracy: 0.6016 - val_loss: 0.0105 - val_accuracy: 0.5588\n",
      "Epoch 69/500\n",
      "30/30 [==============================] - 68s 2s/step - loss: 0.0092 - accuracy: 0.6015 - val_loss: 0.0117 - val_accuracy: 0.5084\n",
      "Epoch 70/500\n",
      "30/30 [==============================] - 70s 2s/step - loss: 0.0092 - accuracy: 0.6090 - val_loss: 0.0135 - val_accuracy: 0.5737\n",
      "Epoch 71/500\n",
      "30/30 [==============================] - 68s 2s/step - loss: 0.0092 - accuracy: 0.5979 - val_loss: 0.0111 - val_accuracy: 0.5436\n",
      "Epoch 72/500\n",
      " 1/30 [>.............................] - ETA: 1:08 - loss: 0.0093 - accuracy: 0.5704"
     ]
    }
   ],
   "source": [
    "# steps_per_epoch: Total number of steps (batches of samples) to yield from generator\n",
    "# before declaring one epoch finished and starting the next epoch.\n",
    "# It should typically be equal to the number of samples if your dataset divided by the batch size.\n",
    "steps = 30 ### 2)100/62%acc #### 1)21/50%acc\n",
    "val_steps = 6\n",
    "iterations = 500 ### 2)30 ### 1)20\n",
    "\n",
    "history = model.fit_generator(train_generator,\n",
    "                              steps_per_epoch=steps,\n",
    "                              epochs=iterations,\n",
    "                              validation_data=validation_generator,\n",
    "                              validation_steps=val_steps)"
   ]
  },
  {
   "cell_type": "code",
   "execution_count": null,
   "metadata": {},
   "outputs": [],
   "source": [
    "model.save('testModel(30steps500epochs).h5')"
   ]
  },
  {
   "cell_type": "code",
   "execution_count": null,
   "metadata": {},
   "outputs": [],
   "source": [
    "import matplotlib.pyplot as plt\n",
    "\n",
    "acc = history.history['accuracy']\n",
    "val_acc = history.history['val_accuracy']\n",
    "loss = history.history['loss']\n",
    "val_loss = history.history['val_loss']\n",
    "\n",
    "epochs = range(len(acc))\n",
    "\n",
    "plt.plot(epochs, acc, 'bo', label='Traning acc')\n",
    "plt.plot(epochs, val_acc, 'b', label='Validation acc')\n",
    "plt.title('Training & validation accuracy')\n",
    "plt.legend()\n",
    "\n",
    "plt.figure()\n",
    "\n",
    "plt.plot(epochs, loss, 'bo', label='Traning loss')\n",
    "plt.plot(epochs, val_loss, 'b', label='Validation loss')\n",
    "plt.title('Training & validation loss')\n",
    "plt.legend()\n",
    "\n",
    "plt.show()"
   ]
  },
  {
   "cell_type": "code",
   "execution_count": null,
   "metadata": {},
   "outputs": [],
   "source": [
    "history"
   ]
  },
  {
   "cell_type": "code",
   "execution_count": null,
   "metadata": {},
   "outputs": [],
   "source": []
  },
  {
   "cell_type": "code",
   "execution_count": null,
   "metadata": {},
   "outputs": [],
   "source": [
    "test_dir = './dataset/test'\n",
    "seed = 6\n",
    "\n",
    "bw = ImageDataGenerator(rescale=1./255)\n",
    "c = ImageDataGenerator(rescale=1./255)\n",
    "\n",
    "\n",
    "test_x = bw.flow_from_directory(test_dir,\n",
    "                          target_size=(224,224),\n",
    "                          color_mode='grayscale',\n",
    "                          class_mode=None,\n",
    "                          seed=seed)\n"
   ]
  },
  {
   "cell_type": "code",
   "execution_count": null,
   "metadata": {},
   "outputs": [],
   "source": [
    "testpic = model.predict_on_batch(test_x[0])"
   ]
  },
  {
   "cell_type": "code",
   "execution_count": null,
   "metadata": {},
   "outputs": [],
   "source": [
    "plt.imshow(test_x[0][1],aspect=\"auto\", cmap=plt.get_cmap('gray'))\n",
    "plt.show()\n",
    "#print(x[0])"
   ]
  },
  {
   "cell_type": "code",
   "execution_count": null,
   "metadata": {},
   "outputs": [],
   "source": [
    "plt.imshow(testpic[1],aspect=\"auto\")\n",
    "plt.show()"
   ]
  },
  {
   "cell_type": "code",
   "execution_count": null,
   "metadata": {},
   "outputs": [],
   "source": []
  },
  {
   "cell_type": "code",
   "execution_count": null,
   "metadata": {},
   "outputs": [],
   "source": []
  },
  {
   "cell_type": "code",
   "execution_count": null,
   "metadata": {},
   "outputs": [],
   "source": []
  }
 ],
 "metadata": {
  "kernelspec": {
   "display_name": "Python 3",
   "language": "python",
   "name": "python3"
  },
  "language_info": {
   "codemirror_mode": {
    "name": "ipython",
    "version": 3
   },
   "file_extension": ".py",
   "mimetype": "text/x-python",
   "name": "python",
   "nbconvert_exporter": "python",
   "pygments_lexer": "ipython3",
   "version": "3.7.9"
  }
 },
 "nbformat": 4,
 "nbformat_minor": 4
}
